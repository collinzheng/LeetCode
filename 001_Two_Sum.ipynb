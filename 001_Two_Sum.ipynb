{
 "cells": [
  {
   "cell_type": "markdown",
   "metadata": {},
   "source": [
    "Given an array of integers, return indices of the two numbers such that they add up to a specific target.\n",
    "\n",
    "You may assume that each input would have exactly one solution, and you may not use the same element twice."
   ]
  },
  {
   "cell_type": "code",
   "execution_count": null,
   "metadata": {},
   "outputs": [],
   "source": [
    "#Example:\n",
    "\n",
    "Given nums = [2, 7, 11, 15], target = 9,\n",
    "\n",
    "Because nums[0] + nums[1] = 2 + 7 = 9,\n",
    "return [0, 1]."
   ]
  },
  {
   "cell_type": "code",
   "execution_count": 62,
   "metadata": {},
   "outputs": [
    {
     "name": "stdout",
     "output_type": "stream",
     "text": [
      "[0, 3]\n"
     ]
    }
   ],
   "source": [
    "#Method 1:\n",
    "class Solution(object):\n",
    "    def twoSum(self, nums, target):\n",
    "        for i, x in enumerate(nums[:-1]):\n",
    "            for j, y in enumerate(nums[1:]):\n",
    "                    if x+y == target and i != j+1:\n",
    "                            return [i, j+1]\n",
    "\n",
    "if __name__ == '__main__':\n",
    "    sln = Solution()\n",
    "    print(sln.twoSum([2,11,15,7], 9))"
   ]
  },
  {
   "cell_type": "code",
   "execution_count": 1,
   "metadata": {},
   "outputs": [
    {
     "name": "stdout",
     "output_type": "stream",
     "text": [
      "[0, 3]\n"
     ]
    }
   ],
   "source": [
    "# Method 2:\n",
    "class Solution:\n",
    "    def twoSum(self, nums, target):\n",
    "        theOtherDict = {}\n",
    "        for index, item in enumerate(nums):\n",
    "            if item in theOtherDict:\n",
    "                return [theOtherDict[item], index]\n",
    "            else:\n",
    "                theOtherDict[target - item] = index\n",
    "\n",
    "def execute():\n",
    "    nums = [2, 11, 15, 7]\n",
    "    target = 9\n",
    "    sol = Solution()\n",
    "    print(sol.twoSum(nums=nums, target=target))\n",
    "\n",
    "if __name__ == \"__main__\":\n",
    "    execute()"
   ]
  }
 ],
 "metadata": {
  "kernelspec": {
   "display_name": "Python 3",
   "language": "python",
   "name": "python3"
  },
  "language_info": {
   "codemirror_mode": {
    "name": "ipython",
    "version": 3
   },
   "file_extension": ".py",
   "mimetype": "text/x-python",
   "name": "python",
   "nbconvert_exporter": "python",
   "pygments_lexer": "ipython3",
   "version": "3.6.5"
  }
 },
 "nbformat": 4,
 "nbformat_minor": 2
}
